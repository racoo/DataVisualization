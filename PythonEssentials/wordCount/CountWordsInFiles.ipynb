{
 "cells": [
  {
   "cell_type": "code",
   "execution_count": 1,
   "metadata": {},
   "outputs": [
    {
     "name": "stdout",
     "output_type": "stream",
     "text": [
      "Enter File: \n",
      "Done the 7\n",
      "the 7\n",
      "car 3\n",
      "and 3\n",
      "tent 2\n",
      "ran 2\n",
      "clown 2\n",
      "on 1\n",
      "into 1\n",
      "fell 1\n",
      "down 1\n"
     ]
    }
   ],
   "source": [
    "fname = input ('Enter File: ')\n",
    "if len(fname) < 1 : fname = 'clown.txt'\n",
    "hand = open(fname)\n",
    "\n",
    "di = dict()\n",
    "for lin in hand:\n",
    "    lin = lin.rstrip()\n",
    "    wds = lin.split()\n",
    "    for w in wds:\n",
    "        # idiom: retrieve/create/update counter\n",
    "        di[w] = di.get(w,0) + 1\n",
    "#print(di)\n",
    "# Now we want to find the most common word\n",
    "largest = -1\n",
    "theword = None\n",
    "for k,v in di.items() :\n",
    "    if v > largest :\n",
    "        largest = v\n",
    "        theword = k # Capture remember the key that was largest\n",
    "    \n",
    "print('Done', theword, largest)\n",
    "\n",
    "# SORT THE DIC ITEMS BY CONVERTING IT TO A LIST\n",
    "lst = list()\n",
    "for key,val in di.items():\n",
    "    newtup = (val, key)\n",
    "    lst.append(newtup)\n",
    "\n",
    "lst = sorted(lst, reverse=True)\n",
    "\n",
    "for val, key in lst[:10] :\n",
    "    print(key,val)"
   ]
  }
 ],
 "metadata": {
  "kernelspec": {
   "display_name": "Python 3",
   "language": "python",
   "name": "python3"
  },
  "language_info": {
   "codemirror_mode": {
    "name": "ipython",
    "version": 3
   },
   "file_extension": ".py",
   "mimetype": "text/x-python",
   "name": "python",
   "nbconvert_exporter": "python",
   "pygments_lexer": "ipython3",
   "version": "3.7.4"
  }
 },
 "nbformat": 4,
 "nbformat_minor": 2
}
